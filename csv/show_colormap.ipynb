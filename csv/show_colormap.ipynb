{
 "cells": [
  {
   "cell_type": "code",
   "execution_count": 124,
   "source": [
    "# https://www.delftstack.com/howto/matplotlib/custom-colormap-using-python-matplotlib/\n",
    "# https://matplotlib.org/3.5.0/tutorials/colors/colormaps.html   \n",
    "\n",
    "import matplotlib.pyplot as plt\n",
    "from matplotlib import cm\n",
    "\n",
    "# Create dict with key = network #\n",
    "def print_colors(name,num):\n",
    "    cm_dict = {}\n",
    "    cmap = cm.get_cmap(name, num)\n",
    "    for i in range(cmap.N):\n",
    "        rgba = cmap(i)\n",
    "        cm_dict[i]=cm.colors.rgb2hex(rgba)\n",
    "    print(cm_dict)\n",
    "    return cm.get_cmap(name,num)\n"
   ],
   "outputs": [],
   "metadata": {}
  },
  {
   "cell_type": "code",
   "execution_count": 125,
   "source": [
    "print_colors('viridis', 19)"
   ],
   "outputs": [
    {
     "output_type": "stream",
     "name": "stdout",
     "text": [
      "{0: '#440154', 1: '#481668', 2: '#482878', 3: '#443983', 4: '#3e4989', 5: '#375a8c', 6: '#31688e', 7: '#2b758e', 8: '#26828e', 9: '#21918c', 10: '#1f9e89', 11: '#25ab82', 12: '#35b779', 13: '#4ec36b', 14: '#6ece58', 15: '#90d743', 16: '#b5de2b', 17: '#dae319', 18: '#fde725'}\n"
     ]
    },
    {
     "output_type": "execute_result",
     "data": {
      "text/plain": [
       "<matplotlib.colors.ListedColormap at 0x1226390f0>"
      ],
      "image/png": "[encoded data removed]",
      "text/html": [
       "<div style=\"vertical-align: middle;\"><strong>viridis</strong> </div><div class=\"cmap\"><img alt=\"viridis colormap\" title=\"viridis\" style=\"border: 1px solid #555;\" src=\"data:image/png;base64,iVBORw0KGgoAAAANSUhEUgAAAgAAAABACAYAAABsv8+/AAAAFnRFWHRUaXRsZQB2aXJpZGlzIGNvbG9ybWFwrE0mCwAAABx0RVh0RGVzY3JpcHRpb24AdmlyaWRpcyBjb2xvcm1hcAtjl3IAAAAwdEVYdEF1dGhvcgBNYXRwbG90bGliIHYzLjUuMSwgaHR0cHM6Ly9tYXRwbG90bGliLm9yZ/e3zs8AAAAydEVYdFNvZnR3YXJlAE1hdHBsb3RsaWIgdjMuNS4xLCBodHRwczovL21hdHBsb3RsaWIub3Jn2RFR6AAAAZFJREFUeJzt1jtKQwEURdEXg0YwkfgpLAVxJg7B+deCWAmCib9ZXIS91gQOnGqvnlbPv8uQ9e3N1NSyXO/Hpr6vL8a2DvvN2Nbnfj23dbka2zoMbh13Y1PL8fJnZOdn9zWysyzLcrY7jG1d7T7Gtu4u3se27rdvY1sP569jW4+bl7mt08EPT7djWydjSwDAvyEAACBIAABAkAAAgCABAABBAgAAggQAAAQJAAAIEgAAECQAACBIAABAkAAAgCABAABBAgAAggQAAAQJAAAIEgAAECQAACBIAABAkAAAgCABAABBAgAAggQAAAQJAAAIEgAAECQAACBIAABAkAAAgCABAABBAgAAggQAAAQJAAAIEgAAECQAACBIAABAkAAAgCABAABBAgAAggQAAAQJAAAIEgAAECQAACBIAABAkAAAgCABAABBAgAAggQAAAQJAAAIEgAAECQAACBIAABAkAAAgCABAABBAgAAggQAAAQJAAAIEgAAECQAACBIAABAkAAAgCABAABBAgAAggQAAAT9ASgjFIenVmk4AAAAAElFTkSuQmCC\"></div><div style=\"vertical-align: middle; max-width: 514px; display: flex; justify-content: space-between;\"><div style=\"float: left;\"><div title=\"#440154ff\" style=\"display: inline-block; width: 1em; height: 1em; margin: 0; vertical-align: middle; border: 1px solid #555; background-color: #440154ff;\"></div> under</div><div style=\"margin: 0 auto; display: inline-block;\">bad <div title=\"#00000000\" style=\"display: inline-block; width: 1em; height: 1em; margin: 0; vertical-align: middle; border: 1px solid #555; background-color: #00000000;\"></div></div><div style=\"float: right;\">over <div title=\"#fde725ff\" style=\"display: inline-block; width: 1em; height: 1em; margin: 0; vertical-align: middle; border: 1px solid #555; background-color: #fde725ff;\"></div></div>"
      ]
     },
     "metadata": {},
     "execution_count": 125
    }
   ],
   "metadata": {}
  },
  {
   "cell_type": "code",
   "execution_count": 126,
   "source": [
    "print_colors('rainbow', 10)"
   ],
   "outputs": [
    {
     "output_type": "stream",
     "name": "stdout",
     "text": [
      "{0: '#8000ff', 1: '#4757fb', 2: '#0ea4f0', 3: '#2adddd', 4: '#63fbc3', 5: '#9cfba4', 6: '#d4dd80', 7: '#ffa457', 8: '#ff572c', 9: '#ff0000'}\n"
     ]
    },
    {
     "output_type": "execute_result",
     "data": {
      "text/plain": [
       "<matplotlib.colors.LinearSegmentedColormap at 0x122b6f9d0>"
      ],
      "image/png": "[encoded data removed]",
      "text/html": [
       "<div style=\"vertical-align: middle;\"><strong>rainbow</strong> </div><div class=\"cmap\"><img alt=\"rainbow colormap\" title=\"rainbow\" style=\"border: 1px solid #555;\" src=\"data:image/png;base64,iVBORw0KGgoAAAANSUhEUgAAAgAAAABACAYAAABsv8+/AAAAFnRFWHRUaXRsZQByYWluYm93IGNvbG9ybWFw7W9oCwAAABx0RVh0RGVzY3JpcHRpb24AcmFpbmJvdyBjb2xvcm1hcEpB2XIAAAAwdEVYdEF1dGhvcgBNYXRwbG90bGliIHYzLjUuMSwgaHR0cHM6Ly9tYXRwbG90bGliLm9yZ/e3zs8AAAAydEVYdFNvZnR3YXJlAE1hdHBsb3RsaWIgdjMuNS4xLCBodHRwczovL21hdHBsb3RsaWIub3Jn2RFR6AAAAXVJREFUeJzt1jFNRFEUANEPOkgQgAG+h+2Rgx56PCwCloRiC6io6ChJFhMv3IQ5R8GUc/W4XS7bP3J8+JlOWObl8D2dsMzN/jWdsMx++zmdsMz99j6dsMz+cZ5OWObu+DadsM7z63TBOk+n6YKlrqcDAIC/ZwAAIMgAAECQAQCAIAMAAEEGAACCDAAABBkAAAgyAAAQZAAAIMgAAECQAQCAIAMAAEEGAACCDAAABBkAAAgyAAAQZAAAIMgAAECQAQCAIAMAAEEGAACCDAAABBkAAAgyAAAQZAAAIMgAAECQAQCAIAMAAEEGAACCDAAABBkAAAgyAAAQZAAAIMgAAECQAQCAIAMAAEEGAACCDAAABBkAAAgyAAAQZAAAIMgAAECQAQCAIAMAAEEGAACCDAAABBkAAAgyAAAQZAAAIMgAAECQAQCAIAMAAEEGAACCDAAABBkAAAgyAAAQZAAAIMgAAECQAQCAIAMAAEEGAACCDAAABP0C3aIRfn7Cjx8AAAAASUVORK5CYII=\"></div><div style=\"vertical-align: middle; max-width: 514px; display: flex; justify-content: space-between;\"><div style=\"float: left;\"><div title=\"#8000ffff\" style=\"display: inline-block; width: 1em; height: 1em; margin: 0; vertical-align: middle; border: 1px solid #555; background-color: #8000ffff;\"></div> under</div><div style=\"margin: 0 auto; display: inline-block;\">bad <div title=\"#00000000\" style=\"display: inline-block; width: 1em; height: 1em; margin: 0; vertical-align: middle; border: 1px solid #555; background-color: #00000000;\"></div></div><div style=\"float: right;\">over <div title=\"#ff0000ff\" style=\"display: inline-block; width: 1em; height: 1em; margin: 0; vertical-align: middle; border: 1px solid #555; background-color: #ff0000ff;\"></div></div>"
      ]
     },
     "metadata": {},
     "execution_count": 126
    }
   ],
   "metadata": {}
  },
  {
   "cell_type": "code",
   "execution_count": 127,
   "source": [
    "import matplotlib as mpl\n",
    "\n",
    "colors = [\"#eaa941\", \"#efef39\", \"#53a447\", \"#3b387f\"] #, \"#48a2ba\"]\n",
    "cmap= mpl.colors.ListedColormap(colors)\n",
    "# cmap = mpl.colors.ListedColormap(['royalblue', 'cyan', 'yellow', 'orange'])\n",
    "\n",
    "bounds = [1,2,3,4,5]\n",
    "norm = mpl.colors.BoundaryNorm(bounds, cmap.N)\n",
    "\n",
    "fig, ax = plt.subplots(figsize=(6, 1))\n",
    "fig.subplots_adjust(bottom=0.5)\n",
    "fig.colorbar(\n",
    "    mpl.cm.ScalarMappable(cmap=cmap, norm=norm),\n",
    "    cax=ax,\n",
    "    ticks=bounds,\n",
    "    spacing='uniform',\n",
    "    orientation='horizontal',\n",
    "    label='Custom extension lengths, some other units',\n",
    ")\n",
    "\n",
    "plt.show()\n"
   ],
   "outputs": [
    {
     "output_type": "display_data",
     "data": {
      "text/plain": [
       "<Figure size 432x72 with 1 Axes>"
      ],
      "image/png": "[encoded data removed]"
     },
     "metadata": {
      "needs_background": "light"
     }
    }
   ],
   "metadata": {}
  },
  {
   "cell_type": "code",
   "execution_count": 162,
   "source": [
    "from numpy.random import randn\n",
    "data = np.clip(randn(250, 250), -1, 1)\n",
    "\n",
    "def orig():\n",
    "    fig, ax = plt.subplots()\n",
    "    ax.set_title('ORIG')\n",
    "    cax = ax.imshow(data, cmap=cm.afmhot)\n",
    "    cbar = fig.colorbar(cax, ticks=[-1, 0, 1], orientation='horizontal')\n",
    "    cbar.ax.set_xticklabels(['Low', 'Medium', 'High'])  # horizontal colorbar\n",
    "\n",
    "def t1():\n",
    "\n",
    "    colors = [\"#eaa941\", \"#efef39\", \"#53a447\", \"#3b387f\"]\n",
    "    cmap= mpl.colors.ListedColormap(colors)\n",
    "\n",
    "    fig, ax = plt.subplots() #igsize=(10, 1))\n",
    "    ax.set_title('T1')\n",
    "\n",
    "    data = np.clip(randn(10, 10), -1, 1)\n",
    "    cax = ax.imshow(data, cmap=cmap)\n",
    "  \n",
    "    '''\n",
    "        # Set up labels for colormaps\n",
    "        ax.xaxis.set_ticks_position('top')\n",
    "        ticker = mpl.ticker.FixedLocator(locs)\n",
    "        ax.xaxis.set_major_locator(ticker)\n",
    "        formatter = mpl.ticker.FixedFormatter(cmap_list[i*dsub:(i+1)*dsub])\n",
    "        ax.xaxis.set_major_formatter(formatter)\n",
    "        ax.xaxis.set_tick_params(rotation=50)\n",
    "        ax.set_ylabel('Lightness $L^*$', fontsize=12)\n",
    "    '''\n",
    "    cbar = fig.colorbar(cax, ticks=[-2,-1, 0, 1,2], orientation='horizontal')\n",
    "    # cbar = fig.colorbar(cax, ticks=[1, 2, 3], orientation='horizontal') # only Low on RHS\n",
    "    cbar.ax.set_xticklabels(['VL','Low1', 'Medium1', 'High1','VH'])  # horizontal colorbar\n",
    "# orig()\n",
    "t1()\n",
    "plt.show()\n"
   ],
   "outputs": [
    {
     "output_type": "error",
     "ename": "TypeError",
     "evalue": "Colorbar.__init__() got an unexpected keyword argument 'major'",
     "traceback": [
      "\u001b[0;31m---------------------------------------------------------------------------\u001b[0m",
      "\u001b[0;31mTypeError\u001b[0m                                 Traceback (most recent call last)",
      "Input \u001b[0;32mIn [162]\u001b[0m, in \u001b[0;36m<cell line: 36>\u001b[0;34m()\u001b[0m\n\u001b[1;32m     34\u001b[0m     cbar\u001b[38;5;241m.\u001b[39max\u001b[38;5;241m.\u001b[39mset_xticklabels([\u001b[38;5;124m'\u001b[39m\u001b[38;5;124mVL\u001b[39m\u001b[38;5;124m'\u001b[39m,\u001b[38;5;124m'\u001b[39m\u001b[38;5;124mLow1\u001b[39m\u001b[38;5;124m'\u001b[39m, \u001b[38;5;124m'\u001b[39m\u001b[38;5;124mMedium1\u001b[39m\u001b[38;5;124m'\u001b[39m, \u001b[38;5;124m'\u001b[39m\u001b[38;5;124mHigh1\u001b[39m\u001b[38;5;124m'\u001b[39m,\u001b[38;5;124m'\u001b[39m\u001b[38;5;124mVH\u001b[39m\u001b[38;5;124m'\u001b[39m])  \u001b[38;5;66;03m# horizontal colorbar\u001b[39;00m\n\u001b[1;32m     35\u001b[0m \u001b[38;5;66;03m# orig()\u001b[39;00m\n\u001b[0;32m---> 36\u001b[0m \u001b[43mt1\u001b[49m\u001b[43m(\u001b[49m\u001b[43m)\u001b[49m\n\u001b[1;32m     37\u001b[0m plt\u001b[38;5;241m.\u001b[39mshow()\n",
      "Input \u001b[0;32mIn [162]\u001b[0m, in \u001b[0;36mt1\u001b[0;34m()\u001b[0m\n\u001b[1;32m     20\u001b[0m cax \u001b[38;5;241m=\u001b[39m ax\u001b[38;5;241m.\u001b[39mimshow(data, cmap\u001b[38;5;241m=\u001b[39mcmap)\n\u001b[1;32m     22\u001b[0m \u001b[38;5;124;03m'''\u001b[39;00m\n\u001b[1;32m     23\u001b[0m \u001b[38;5;124;03m    # Set up labels for colormaps\u001b[39;00m\n\u001b[1;32m     24\u001b[0m \u001b[38;5;124;03m    ax.xaxis.set_ticks_position('top')\u001b[39;00m\n\u001b[0;32m   (...)\u001b[0m\n\u001b[1;32m     30\u001b[0m \u001b[38;5;124;03m    ax.set_ylabel('Lightness $L^*$', fontsize=12)\u001b[39;00m\n\u001b[1;32m     31\u001b[0m \u001b[38;5;124;03m'''\u001b[39;00m\n\u001b[0;32m---> 32\u001b[0m cbar \u001b[38;5;241m=\u001b[39m \u001b[43mfig\u001b[49m\u001b[38;5;241;43m.\u001b[39;49m\u001b[43mcolorbar\u001b[49m\u001b[43m(\u001b[49m\u001b[43mcax\u001b[49m\u001b[43m,\u001b[49m\u001b[43m \u001b[49m\u001b[43mticks\u001b[49m\u001b[38;5;241;43m=\u001b[39;49m\u001b[43m[\u001b[49m\u001b[38;5;241;43m-\u001b[39;49m\u001b[38;5;241;43m2\u001b[39;49m\u001b[43m,\u001b[49m\u001b[38;5;241;43m-\u001b[39;49m\u001b[38;5;241;43m1\u001b[39;49m\u001b[43m,\u001b[49m\u001b[43m \u001b[49m\u001b[38;5;241;43m0\u001b[39;49m\u001b[43m,\u001b[49m\u001b[43m \u001b[49m\u001b[38;5;241;43m1\u001b[39;49m\u001b[43m,\u001b[49m\u001b[38;5;241;43m2\u001b[39;49m\u001b[43m]\u001b[49m\u001b[43m,\u001b[49m\u001b[43m \u001b[49m\u001b[43morientation\u001b[49m\u001b[38;5;241;43m=\u001b[39;49m\u001b[38;5;124;43m'\u001b[39;49m\u001b[38;5;124;43mhorizontal\u001b[39;49m\u001b[38;5;124;43m'\u001b[39;49m\u001b[43m,\u001b[49m\u001b[43mmajor\u001b[49m\u001b[38;5;241;43m=\u001b[39;49m\u001b[38;5;28;43;01mNone\u001b[39;49;00m\u001b[43m)\u001b[49m\n\u001b[1;32m     33\u001b[0m \u001b[38;5;66;03m# cbar = fig.colorbar(cax, ticks=[1, 2, 3], orientation='horizontal') # only Low on RHS\u001b[39;00m\n\u001b[1;32m     34\u001b[0m cbar\u001b[38;5;241m.\u001b[39max\u001b[38;5;241m.\u001b[39mset_xticklabels([\u001b[38;5;124m'\u001b[39m\u001b[38;5;124mVL\u001b[39m\u001b[38;5;124m'\u001b[39m,\u001b[38;5;124m'\u001b[39m\u001b[38;5;124mLow1\u001b[39m\u001b[38;5;124m'\u001b[39m, \u001b[38;5;124m'\u001b[39m\u001b[38;5;124mMedium1\u001b[39m\u001b[38;5;124m'\u001b[39m, \u001b[38;5;124m'\u001b[39m\u001b[38;5;124mHigh1\u001b[39m\u001b[38;5;124m'\u001b[39m,\u001b[38;5;124m'\u001b[39m\u001b[38;5;124mVH\u001b[39m\u001b[38;5;124m'\u001b[39m])\n",
      "File \u001b[0;32m/Library/Frameworks/Python.framework/Versions/3.10/lib/python3.10/site-packages/matplotlib/figure.py:1158\u001b[0m, in \u001b[0;36mFigureBase.colorbar\u001b[0;34m(self, mappable, cax, ax, use_gridspec, **kw)\u001b[0m\n\u001b[1;32m   1154\u001b[0m NON_COLORBAR_KEYS \u001b[38;5;241m=\u001b[39m [\u001b[38;5;124m'\u001b[39m\u001b[38;5;124mfraction\u001b[39m\u001b[38;5;124m'\u001b[39m, \u001b[38;5;124m'\u001b[39m\u001b[38;5;124mpad\u001b[39m\u001b[38;5;124m'\u001b[39m, \u001b[38;5;124m'\u001b[39m\u001b[38;5;124mshrink\u001b[39m\u001b[38;5;124m'\u001b[39m, \u001b[38;5;124m'\u001b[39m\u001b[38;5;124maspect\u001b[39m\u001b[38;5;124m'\u001b[39m, \u001b[38;5;124m'\u001b[39m\u001b[38;5;124manchor\u001b[39m\u001b[38;5;124m'\u001b[39m,\n\u001b[1;32m   1155\u001b[0m                      \u001b[38;5;124m'\u001b[39m\u001b[38;5;124mpanchor\u001b[39m\u001b[38;5;124m'\u001b[39m]\n\u001b[1;32m   1156\u001b[0m cb_kw \u001b[38;5;241m=\u001b[39m {k: v \u001b[38;5;28;01mfor\u001b[39;00m k, v \u001b[38;5;129;01min\u001b[39;00m kw\u001b[38;5;241m.\u001b[39mitems() \u001b[38;5;28;01mif\u001b[39;00m k \u001b[38;5;129;01mnot\u001b[39;00m \u001b[38;5;129;01min\u001b[39;00m NON_COLORBAR_KEYS}\n\u001b[0;32m-> 1158\u001b[0m cb \u001b[38;5;241m=\u001b[39m \u001b[43mcbar\u001b[49m\u001b[38;5;241;43m.\u001b[39;49m\u001b[43mColorbar\u001b[49m\u001b[43m(\u001b[49m\u001b[43mcax\u001b[49m\u001b[43m,\u001b[49m\u001b[43m \u001b[49m\u001b[43mmappable\u001b[49m\u001b[43m,\u001b[49m\u001b[43m \u001b[49m\u001b[38;5;241;43m*\u001b[39;49m\u001b[38;5;241;43m*\u001b[39;49m\u001b[43mcb_kw\u001b[49m\u001b[43m)\u001b[49m\n\u001b[1;32m   1160\u001b[0m \u001b[38;5;28;01mif\u001b[39;00m \u001b[38;5;129;01mnot\u001b[39;00m userax:\n\u001b[1;32m   1161\u001b[0m     \u001b[38;5;28mself\u001b[39m\u001b[38;5;241m.\u001b[39msca(current_ax)\n",
      "\u001b[0;31mTypeError\u001b[0m: Colorbar.__init__() got an unexpected keyword argument 'major'"
     ]
    },
    {
     "output_type": "display_data",
     "data": {
      "text/plain": [
       "<Figure size 432x288 with 2 Axes>"
      ],
      "image/png": "[encoded data removed]"
     },
     "metadata": {
      "needs_background": "light"
     }
    }
   ],
   "metadata": {}
  },
  {
   "cell_type": "code",
   "execution_count": 128,
   "source": [
    "import matplotlib as mpl\n",
    "import numpy as np\n",
    "\n",
    "def test_color_bar(colors,label,tick_labels):\n",
    "    cmap= mpl.colors.ListedColormap(colors)\n",
    "    # cmap = mpl.colors.ListedColormap(['royalblue', 'cyan', 'yellow', 'orange'])\n",
    "\n",
    "    # one more and make ''\n",
    "    bounds = tick_labels#+[5]\n",
    "\n",
    "    # used to draw ticks\n",
    "    norm = mpl.colors.BoundaryNorm(bounds, cmap.N)\n",
    "    norm = mpl.colors.CenteredNorm()\n",
    "\n",
    "    # defines the width of the entire plot - 10 is wider\n",
    "    fig, ax = plt.subplots(figsize=(10, 1))\n",
    "    ax.tick_params(labelsize=40)\n",
    "    \n",
    "    # draw ticks in middle of color bars - not working yet\n",
    "    # https://stackoverflow.com/questions/57337450/matplotlib-center-align-ticks-in-imshow-plot\n",
    "    # bounds1 = [1.0,2.0,3.0,4.0,5.0] # one more and make ''\n",
    "    # ax.set_xticklabels(bounds,ha='center', minor=False)\n",
    "\n",
    "    #  defines the height of the entire plot\n",
    "    # fig.subplots_adjust(bottom=0.5) # this makes it 1/2 the height\n",
    "    cb = fig.colorbar(\n",
    "        mpl.cm.ScalarMappable(cmap=cmap,norm=norm),\n",
    "        cax=ax,\n",
    "        # ticks=bounds,\n",
    "        orientation='horizontal',\n",
    "        label=label,\n",
    "    )\n",
    "    # put the major ticks at the middle of each cell\n",
    "    num_labels = len(tick_labels)\n",
    "    new_ticks = np.arange(num_labels) + 0.5\n",
    "    print(\"new ticks\",new_ticks)\n",
    "    # ax.set_xticks(new_ticks, minor=False)\n",
    "    ax.set_xticks(new_ticks, minor=True)\n",
    "  \n",
    "    plt.show()\n",
    "    print( ax.get_xticklabels())\n",
    "colors = [\"#eaa941\", \"#efef39\", \"#53a447\", \"#3b387f\"] #, \"#48a2ba\"]\n",
    "# names = ['oj','y','g','b']\n",
    "tick_names = [1,2,3,4]\n",
    "test_color_bar(colors,'test bar',tick_names)"
   ],
   "outputs": [
    {
     "output_type": "stream",
     "name": "stdout",
     "text": [
      "new ticks [0.5 1.5 2.5 3.5]\n"
     ]
    },
    {
     "output_type": "display_data",
     "data": {
      "text/plain": [
       "<Figure size 720x72 with 1 Axes>"
      ],
      "image/png": "[encoded data removed]"
     },
     "metadata": {
      "needs_background": "light"
     }
    },
    {
     "output_type": "stream",
     "name": "stdout",
     "text": [
      "[Text(-2.0, 0, '−2'), Text(0.0, 0, '0'), Text(2.0, 0, '2'), Text(4.0, 0, '4')]\n"
     ]
    }
   ],
   "metadata": {}
  },
  {
   "cell_type": "code",
   "execution_count": 166,
   "source": [
    "import matplotlib as mpl\n",
    "import numpy as np\n",
    "\n",
    "def show_color_bar(colors,label,tick_labels):\n",
    "    \n",
    "    cmap= mpl.colors.ListedColormap(colors)\n",
    "    # cmap = mpl.colors.ListedColormap(['royalblue', 'cyan', 'yellow', 'orange'])\n",
    "\n",
    "    # one more and make ''\n",
    "    bounds = tick_labels+[ tick_labels[-1]+1]\n",
    "\n",
    "    # used to draw ticks\n",
    "    norm = mpl.colors.BoundaryNorm(bounds, cmap.N)\n",
    "\n",
    "    # defines the width of the entire plot - 10 is wider\n",
    "    fig, ax = plt.subplots(figsize=(20, 1))\n",
    "    ax.tick_params(labelsize=40)\n",
    "    \n",
    "    #  defines the height of the entire plot\n",
    "    # fig.subplots_adjust(bottom=0.5) # this makes it 1/2 the height\n",
    "    cb = fig.colorbar(\n",
    "        mpl.cm.ScalarMappable(cmap=cmap,norm=norm),\n",
    "        cax=ax,\n",
    "        orientation='horizontal',\n",
    "        label=label,\n",
    "    )\n",
    "  \n",
    "    plt.show()\n",
    "\n",
    "colors = [\"#eaa941\", \"#efef39\", \"#53a447\", \"#3b387f\"] #, \"#48a2ba\"]\n",
    "# names = ['oj','y','g','b']\n",
    "tick_names = [1,2,3,4]\n",
    "show_color_bar(colors,'test bar',tick_names)"
   ],
   "outputs": [
    {
     "output_type": "display_data",
     "data": {
      "text/plain": [
       "<Figure size 1440x72 with 1 Axes>"
      ],
      "image/png": "[encoded data removed]"
     },
     "metadata": {
      "needs_background": "light"
     }
    }
   ],
   "metadata": {}
  },
  {
   "cell_type": "code",
   "execution_count": 183,
   "source": [
    "clr_dict = {\n",
    "#    hex      color_name\n",
    "1:('#00FFFF','deepskyblue'),\n",
    "2:('#FF6103','lightsalmon'),\n",
    "3:('#68228B','purple'),\n",
    "4:('#FF69B4','hotpink'),\n",
    "5:('#FF3030','red'),\n",
    "6:('#808080','gray'),\n",
    "7:('#1B45F1','blue'),\n",
    "8:('#FFFF00','yellow'),\n",
    "9:('#000000','black'),\n",
    "10:('#8B2323','saddlebrown'),\n",
    "11:('#006400','darkgreen'),\n",
    "12:('#00C957','limegreen'),\n",
    "13:('#87CEFA','lightskyblue'),\n",
    "14:('#BCA8E2','thistle'),\n",
    "}\n",
    "\n",
    "class MyColors:\n",
    "    def __init__(self,color_dict):\n",
    "        # color_names = {\n",
    "        #     num, hex,     anytext-not a real name\n",
    "        #     1:('#00FFFF','aqua'),\n",
    "        self.color_dict = color_dict\n",
    "        d = color_dict\n",
    "        self.colors_hex = [ d[n][0] for n in d.keys() ]\n",
    "        self.colors_names = [ d[n][1] for n in d.keys() ]\n",
    "        self.colors_nums = list(d.keys())\n",
    "        self.matplot_hex_dict = {}\n",
    "    \n",
    "    def get_hex_for_names(self):\n",
    "        ''' print hex values for names, not the ones in the dict'''\n",
    "        cmap = mpl.colors.ListedColormap(self.colors_names)\n",
    "        for i in range(cmap.N):\n",
    "            rgba = cmap(i)\n",
    "            self.matplot_hex_dict[i]=cm.colors.rgb2hex(rgba)\n",
    "        print(self.matplot_hex_dict)\n",
    "\n",
    "    def create_mp(self):\n",
    "        import pprint\n",
    "        d = {}\n",
    "        for k in self.color_dict.keys():\n",
    "            d[k]=self.color_dict[k][1]\n",
    "        pprint.pp(d)\n",
    "\n"
   ],
   "outputs": [],
   "metadata": {}
  },
  {
   "cell_type": "code",
   "execution_count": 184,
   "source": [
    "mycb = MyColors(clr_dict)\n",
    "# mycb.get_hex_for_names()\n",
    "mycb.create_mp()\n",
    "show_color_bar(mycb.colors_hex,'test bar',mycb.colors_nums)"
   ],
   "outputs": [
    {
     "output_type": "stream",
     "name": "stdout",
     "text": [
      "{1: 'deepskyblue',\n",
      " 2: 'lightsalmon',\n",
      " 3: 'purple',\n",
      " 4: 'hotpink',\n",
      " 5: 'red',\n",
      " 6: 'gray',\n",
      " 7: 'blue',\n",
      " 8: 'yellow',\n",
      " 9: 'black',\n",
      " 10: 'saddlebrown',\n",
      " 11: 'darkgreen',\n",
      " 12: 'limegreen',\n",
      " 13: 'lightskyblue',\n",
      " 14: 'thistle'}\n"
     ]
    },
    {
     "output_type": "display_data",
     "data": {
      "text/plain": [
       "<Figure size 1440x72 with 1 Axes>"
      ],
      "image/png": "[encoded data removed]"
     },
     "metadata": {
      "needs_background": "light"
     }
    }
   ],
   "metadata": {}
  },
  {
   "cell_type": "code",
   "execution_count": 188,
   "source": [
    "# https://matplotlib.org/3.5.0/gallery/color/named_colors.html\n",
    "unh_colors = {\n",
    "    1: 'deepskyblue',\n",
    "    2: 'lightsalmon',\n",
    "    3: 'purple',\n",
    "    4: 'hotpink',\n",
    "    5: 'red',\n",
    "    6: 'gray',\n",
    "    7: 'blue',\n",
    "    8: 'yellow',\n",
    "    9: 'black',\n",
    "    10: 'saddlebrown',\n",
    "    11: 'darkgreen',\n",
    "    12: 'limegreen',\n",
    "    13: 'lightskyblue',\n",
    "    14: 'thistle'\n",
    " }\n",
    "# self.colors_names = [ unh_colors[n][1] for n in d.keys() ]\n",
    "print( list(unh_colors.values()) )\n",
    "color_names = list(unh_colors.values())\n",
    "color_nums = list( unh_colors.keys())\n",
    "show_color_bar(color_names,'test bar',color_nums)"
   ],
   "outputs": [
    {
     "output_type": "stream",
     "name": "stdout",
     "text": [
      "['deepskyblue', 'lightsalmon', 'purple', 'hotpink', 'red', 'gray', 'blue', 'yellow', 'black', 'saddlebrown', 'darkgreen', 'limegreen', 'lightskyblue', 'thistle']\n"
     ]
    },
    {
     "output_type": "error",
     "ename": "NameError",
     "evalue": "name 'colors_nums' is not defined",
     "traceback": [
      "\u001b[0;31m---------------------------------------------------------------------------\u001b[0m",
      "\u001b[0;31mNameError\u001b[0m                                 Traceback (most recent call last)",
      "Input \u001b[0;32mIn [188]\u001b[0m, in \u001b[0;36m<cell line: 22>\u001b[0;34m()\u001b[0m\n\u001b[1;32m     20\u001b[0m color_names \u001b[38;5;241m=\u001b[39m \u001b[38;5;28mlist\u001b[39m(unh_colors\u001b[38;5;241m.\u001b[39mvalues())\n\u001b[1;32m     21\u001b[0m color_nums \u001b[38;5;241m=\u001b[39m \u001b[38;5;28mlist\u001b[39m( unh_colors\u001b[38;5;241m.\u001b[39mkeys())\n\u001b[0;32m---> 22\u001b[0m show_color_bar(color_names,\u001b[38;5;124m'\u001b[39m\u001b[38;5;124mtest bar\u001b[39m\u001b[38;5;124m'\u001b[39m,\u001b[43mcolors_nums\u001b[49m)\n",
      "\u001b[0;31mNameError\u001b[0m: name 'colors_nums' is not defined"
     ]
    }
   ],
   "metadata": {}
  },
  {
   "cell_type": "code",
   "execution_count": 133,
   "source": [
    "import matplotlib.pyplot as plt\n",
    "import numpy as np\n",
    "from matplotlib.colors import ListedColormap\n",
    "\n",
    "#discrete color scheme\n",
    "cMap = ListedColormap(['white', 'green', 'blue','red'])\n",
    "\n",
    "#data\n",
    "np.random.seed(42)\n",
    "data = np.random.rand(4, 4)\n",
    "\n",
    "\n",
    "fig, ax = plt.subplots()\n",
    "heatmap = ax.pcolor(data, cmap=cMap)\n",
    "\n",
    "#legend\n",
    "cbar = plt.colorbar(heatmap)\n",
    "\n",
    "# put the major ticks at the middle of each cell\n",
    "column_labels = list('ABCD')\n",
    "new_ticks = np.arange( len(column_labels) ) + 0.5\n",
    "print(\"New ticks\",new_ticks)\n",
    "ax.set_xticks(np.arange(data.shape[1]) + 0.5, minor=False)\n",
    "\n",
    "#labels\n",
    "ax.set_xticklabels(column_labels, minor=False)\n",
    "\n",
    "plt.show()"
   ],
   "outputs": [
    {
     "output_type": "stream",
     "name": "stdout",
     "text": [
      "New ticks [0.5 1.5 2.5 3.5]\n"
     ]
    },
    {
     "output_type": "display_data",
     "data": {
      "text/plain": [
       "<Figure size 432x288 with 2 Axes>"
      ],
      "image/png": "[encoded data removed]"
     },
     "metadata": {
      "needs_background": "light"
     }
    }
   ],
   "metadata": {}
  },
  {
   "cell_type": "code",
   "execution_count": null,
   "source": [],
   "outputs": [],
   "metadata": {}
  }
 ],
 "metadata": {
  "orig_nbformat": 4,
  "language_info": {
   "name": "python",
   "version": "3.10.1",
   "mimetype": "text/x-python",
   "codemirror_mode": {
    "name": "ipython",
    "version": 3
   },
   "pygments_lexer": "ipython3",
   "nbconvert_exporter": "python",
   "file_extension": ".py"
  },
  "kernelspec": {
   "name": "python3",
   "display_name": "Python 3.10.1 64-bit"
  },
  "interpreter": {
   "hash": "7e1998ff7f8aa20ada591c520b972326324e5ea05489af9e422744c7c09f6dad"
  }
 },
 "nbformat": 4,
 "nbformat_minor": 2
}